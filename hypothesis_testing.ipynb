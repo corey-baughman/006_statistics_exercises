{
 "cells": [
  {
   "cell_type": "markdown",
   "id": "4d890de0",
   "metadata": {},
   "source": [
    "# Hypothesis Testing"
   ]
  },
  {
   "cell_type": "code",
   "execution_count": 1,
   "id": "bb797c6b",
   "metadata": {},
   "outputs": [],
   "source": [
    "import numpy as np\n",
    "import seaborn as sns\n",
    "import scipy.stats as stats\n",
    "import pandas as pd\n",
    "import matplotlib.pyplot as plt\n",
    "from pydataset import data"
   ]
  },
  {
   "cell_type": "markdown",
   "id": "bdf5e08e",
   "metadata": {},
   "source": [
    "#### 1. Answer with the type of test you would use (assume normal distribution):\n",
    "- Answer with the type of test you would use (assume normal distribution):\n",
    "- Are adults who drink milk taller than adults who don't drink milk?\n",
    "\n",
    "two-sample t-test (stats.ttest_ind), we also care about direction, so one-tailed\n",
    "- Is the the price of gas higher in texas or in new mexico?\n",
    "\n",
    "two_sample t-test (stats.ttest_ind), we don't seem to care whether it's Texas or New Mexico that's higher, so two-tailed.\n",
    "- Are there differences in stress levels between students who take data science vs students who take web development vs students who take cloud academy?\n",
    "\n",
    "ANOVA test (stats.f_oneway) since we are comparing variance across three subsets.\n"
   ]
  },
  {
   "cell_type": "markdown",
   "id": "37f0393e",
   "metadata": {},
   "source": [
    "#### 2. Ace Realty wants to determine whether the average time it takes to sell homes is different for its two offices. A sample of 40 sales from office #1 revealed a mean of 90 days and a standard deviation of 15 days. A sample of 50 sales from office #2 revealed a mean of 100 days and a standard deviation of 20 days. Use a .05 level of significance.\n",
    "\n"
   ]
  },
  {
   "cell_type": "code",
   "execution_count": null,
   "id": "360dfdaf",
   "metadata": {},
   "outputs": [],
   "source": [
    "# what kind of test do we need? \n",
    "    # we are comparing two subgroups to each other\n",
    "    # two-sample test\n",
    "    # two_tailed since directionality is not important\n",
    "    \n",
    "# Verify assumptions\n",
    "    #Independent samples: yes!\n",
    "    #Normal distributions: samples are over 30 so yes!\n",
    "    #Equal Variances: variance #1 = 225 != variance #2 = 400\n",
    "    "
   ]
  },
  {
   "cell_type": "markdown",
   "id": "21d8c4d2",
   "metadata": {},
   "source": [
    "#### H$_0$: there is a significant difference between Ace Office #1 and Ace Office #2 in the time it takes to sell a house.\n",
    "#### H$_a$: there is a significant difference between Ace Office #1 and Ace Office #2 in the time it takes to sell a house."
   ]
  },
  {
   "cell_type": "code",
   "execution_count": 6,
   "id": "04d9b567",
   "metadata": {},
   "outputs": [
    {
     "data": {
      "text/plain": [
       "Ttest_indResult(statistic=-2.7091418459143854, pvalue=0.00811206270346016)"
      ]
     },
     "execution_count": 6,
     "metadata": {},
     "output_type": "execute_result"
    }
   ],
   "source": [
    "α = 0.05\n",
    "stats.ttest_ind_from_stats(90, 15, 40, 100, 20, 50, equal_var=False)"
   ]
  },
  {
   "cell_type": "code",
   "execution_count": 7,
   "id": "ce5caf1e",
   "metadata": {},
   "outputs": [],
   "source": [
    "t_stat, p_value = stats.ttest_ind_from_stats(90, 15, 40, 100, 20, 50, equal_var=False)"
   ]
  },
  {
   "cell_type": "code",
   "execution_count": 8,
   "id": "f549e710",
   "metadata": {},
   "outputs": [
    {
     "data": {
      "text/plain": [
       "-2.7091418459143854"
      ]
     },
     "execution_count": 8,
     "metadata": {},
     "output_type": "execute_result"
    }
   ],
   "source": [
    "t_stat"
   ]
  },
  {
   "cell_type": "code",
   "execution_count": 9,
   "id": "2bd8da83",
   "metadata": {},
   "outputs": [
    {
     "data": {
      "text/plain": [
       "0.00811206270346016"
      ]
     },
     "execution_count": 9,
     "metadata": {},
     "output_type": "execute_result"
    }
   ],
   "source": [
    "p_value"
   ]
  },
  {
   "cell_type": "code",
   "execution_count": 10,
   "id": "981e7b27",
   "metadata": {},
   "outputs": [
    {
     "data": {
      "text/plain": [
       "True"
      ]
     },
     "execution_count": 10,
     "metadata": {},
     "output_type": "execute_result"
    }
   ],
   "source": [
    "p_value < α"
   ]
  },
  {
   "cell_type": "code",
   "execution_count": null,
   "id": "9390e84c",
   "metadata": {},
   "outputs": [],
   "source": [
    "# p is less than α therefore, at the 95% confidence level \n",
    "# we can reject the null hypothesis. that the true mean time \n",
    "# to sell a house at Office #1 and Office #2 are the same."
   ]
  },
  {
   "cell_type": "markdown",
   "id": "d6a20bea",
   "metadata": {},
   "source": [
    "#### 3. Load the mpg dataset and use it to answer the following questions:\n",
    "- Is there a difference in fuel-efficiency in cars from 2008 vs 1999?\n",
    "- Are compact cars more fuel-efficient than the average car?\n",
    "- Are compact cars more fuel-efficient than the average car?\n"
   ]
  },
  {
   "cell_type": "code",
   "execution_count": 2,
   "id": "e0cb4ad8",
   "metadata": {},
   "outputs": [],
   "source": [
    "mpg = data('mpg')"
   ]
  },
  {
   "cell_type": "code",
   "execution_count": 3,
   "id": "138666f6",
   "metadata": {},
   "outputs": [
    {
     "data": {
      "text/html": [
       "<div>\n",
       "<style scoped>\n",
       "    .dataframe tbody tr th:only-of-type {\n",
       "        vertical-align: middle;\n",
       "    }\n",
       "\n",
       "    .dataframe tbody tr th {\n",
       "        vertical-align: top;\n",
       "    }\n",
       "\n",
       "    .dataframe thead th {\n",
       "        text-align: right;\n",
       "    }\n",
       "</style>\n",
       "<table border=\"1\" class=\"dataframe\">\n",
       "  <thead>\n",
       "    <tr style=\"text-align: right;\">\n",
       "      <th></th>\n",
       "      <th>manufacturer</th>\n",
       "      <th>model</th>\n",
       "      <th>displ</th>\n",
       "      <th>year</th>\n",
       "      <th>cyl</th>\n",
       "      <th>trans</th>\n",
       "      <th>drv</th>\n",
       "      <th>cty</th>\n",
       "      <th>hwy</th>\n",
       "      <th>fl</th>\n",
       "      <th>class</th>\n",
       "    </tr>\n",
       "  </thead>\n",
       "  <tbody>\n",
       "    <tr>\n",
       "      <th>1</th>\n",
       "      <td>audi</td>\n",
       "      <td>a4</td>\n",
       "      <td>1.8</td>\n",
       "      <td>1999</td>\n",
       "      <td>4</td>\n",
       "      <td>auto(l5)</td>\n",
       "      <td>f</td>\n",
       "      <td>18</td>\n",
       "      <td>29</td>\n",
       "      <td>p</td>\n",
       "      <td>compact</td>\n",
       "    </tr>\n",
       "    <tr>\n",
       "      <th>2</th>\n",
       "      <td>audi</td>\n",
       "      <td>a4</td>\n",
       "      <td>1.8</td>\n",
       "      <td>1999</td>\n",
       "      <td>4</td>\n",
       "      <td>manual(m5)</td>\n",
       "      <td>f</td>\n",
       "      <td>21</td>\n",
       "      <td>29</td>\n",
       "      <td>p</td>\n",
       "      <td>compact</td>\n",
       "    </tr>\n",
       "    <tr>\n",
       "      <th>3</th>\n",
       "      <td>audi</td>\n",
       "      <td>a4</td>\n",
       "      <td>2.0</td>\n",
       "      <td>2008</td>\n",
       "      <td>4</td>\n",
       "      <td>manual(m6)</td>\n",
       "      <td>f</td>\n",
       "      <td>20</td>\n",
       "      <td>31</td>\n",
       "      <td>p</td>\n",
       "      <td>compact</td>\n",
       "    </tr>\n",
       "    <tr>\n",
       "      <th>4</th>\n",
       "      <td>audi</td>\n",
       "      <td>a4</td>\n",
       "      <td>2.0</td>\n",
       "      <td>2008</td>\n",
       "      <td>4</td>\n",
       "      <td>auto(av)</td>\n",
       "      <td>f</td>\n",
       "      <td>21</td>\n",
       "      <td>30</td>\n",
       "      <td>p</td>\n",
       "      <td>compact</td>\n",
       "    </tr>\n",
       "    <tr>\n",
       "      <th>5</th>\n",
       "      <td>audi</td>\n",
       "      <td>a4</td>\n",
       "      <td>2.8</td>\n",
       "      <td>1999</td>\n",
       "      <td>6</td>\n",
       "      <td>auto(l5)</td>\n",
       "      <td>f</td>\n",
       "      <td>16</td>\n",
       "      <td>26</td>\n",
       "      <td>p</td>\n",
       "      <td>compact</td>\n",
       "    </tr>\n",
       "  </tbody>\n",
       "</table>\n",
       "</div>"
      ],
      "text/plain": [
       "  manufacturer model  displ  year  cyl       trans drv  cty  hwy fl    class\n",
       "1         audi    a4    1.8  1999    4    auto(l5)   f   18   29  p  compact\n",
       "2         audi    a4    1.8  1999    4  manual(m5)   f   21   29  p  compact\n",
       "3         audi    a4    2.0  2008    4  manual(m6)   f   20   31  p  compact\n",
       "4         audi    a4    2.0  2008    4    auto(av)   f   21   30  p  compact\n",
       "5         audi    a4    2.8  1999    6    auto(l5)   f   16   26  p  compact"
      ]
     },
     "execution_count": 3,
     "metadata": {},
     "output_type": "execute_result"
    }
   ],
   "source": [
    "mpg.head()"
   ]
  },
  {
   "cell_type": "markdown",
   "id": "94685ed1",
   "metadata": {},
   "source": [
    "#### 3a. Is there a difference in fuel-efficiency in cars from 2008 vs 1999?"
   ]
  },
  {
   "cell_type": "code",
   "execution_count": 45,
   "id": "919f8fe2",
   "metadata": {},
   "outputs": [],
   "source": [
    "# what is the question? cty mpg, hwy mpg? I'll use the average of the two\n",
    "# create a column cty_hwy_avg\n",
    "\n",
    "# what type of test?\n",
    "# two-sample test as we're comparing two subgroups of same population\n",
    "# two-tailed test as we are looking for difference, not direction\n",
    "\n",
    "# Verify assumptions\n",
    "    #Randomness: yes. assuming the mpg sampling methodology was good.\n",
    "    #Independent samples: yes!\n",
    "    #Normal distributions:  even though the distributions are not exactly normal, \n",
    "        #with sample size of 117 and no significant outliers, by the CLT \n",
    "        #they should produce normal distributions of the sample means.\n",
    "    #Equal Variances: No. Will use equal_var=False"
   ]
  },
  {
   "cell_type": "code",
   "execution_count": 18,
   "id": "a8e93df2",
   "metadata": {},
   "outputs": [
    {
     "data": {
      "text/html": [
       "<div>\n",
       "<style scoped>\n",
       "    .dataframe tbody tr th:only-of-type {\n",
       "        vertical-align: middle;\n",
       "    }\n",
       "\n",
       "    .dataframe tbody tr th {\n",
       "        vertical-align: top;\n",
       "    }\n",
       "\n",
       "    .dataframe thead th {\n",
       "        text-align: right;\n",
       "    }\n",
       "</style>\n",
       "<table border=\"1\" class=\"dataframe\">\n",
       "  <thead>\n",
       "    <tr style=\"text-align: right;\">\n",
       "      <th></th>\n",
       "      <th>manufacturer</th>\n",
       "      <th>model</th>\n",
       "      <th>displ</th>\n",
       "      <th>year</th>\n",
       "      <th>cyl</th>\n",
       "      <th>trans</th>\n",
       "      <th>drv</th>\n",
       "      <th>cty</th>\n",
       "      <th>hwy</th>\n",
       "      <th>fl</th>\n",
       "      <th>class</th>\n",
       "      <th>cty_hwy_avg</th>\n",
       "    </tr>\n",
       "  </thead>\n",
       "  <tbody>\n",
       "    <tr>\n",
       "      <th>1</th>\n",
       "      <td>audi</td>\n",
       "      <td>a4</td>\n",
       "      <td>1.8</td>\n",
       "      <td>1999</td>\n",
       "      <td>4</td>\n",
       "      <td>auto(l5)</td>\n",
       "      <td>f</td>\n",
       "      <td>18</td>\n",
       "      <td>29</td>\n",
       "      <td>p</td>\n",
       "      <td>compact</td>\n",
       "      <td>23.5</td>\n",
       "    </tr>\n",
       "    <tr>\n",
       "      <th>2</th>\n",
       "      <td>audi</td>\n",
       "      <td>a4</td>\n",
       "      <td>1.8</td>\n",
       "      <td>1999</td>\n",
       "      <td>4</td>\n",
       "      <td>manual(m5)</td>\n",
       "      <td>f</td>\n",
       "      <td>21</td>\n",
       "      <td>29</td>\n",
       "      <td>p</td>\n",
       "      <td>compact</td>\n",
       "      <td>25.0</td>\n",
       "    </tr>\n",
       "    <tr>\n",
       "      <th>3</th>\n",
       "      <td>audi</td>\n",
       "      <td>a4</td>\n",
       "      <td>2.0</td>\n",
       "      <td>2008</td>\n",
       "      <td>4</td>\n",
       "      <td>manual(m6)</td>\n",
       "      <td>f</td>\n",
       "      <td>20</td>\n",
       "      <td>31</td>\n",
       "      <td>p</td>\n",
       "      <td>compact</td>\n",
       "      <td>25.5</td>\n",
       "    </tr>\n",
       "    <tr>\n",
       "      <th>4</th>\n",
       "      <td>audi</td>\n",
       "      <td>a4</td>\n",
       "      <td>2.0</td>\n",
       "      <td>2008</td>\n",
       "      <td>4</td>\n",
       "      <td>auto(av)</td>\n",
       "      <td>f</td>\n",
       "      <td>21</td>\n",
       "      <td>30</td>\n",
       "      <td>p</td>\n",
       "      <td>compact</td>\n",
       "      <td>25.5</td>\n",
       "    </tr>\n",
       "    <tr>\n",
       "      <th>5</th>\n",
       "      <td>audi</td>\n",
       "      <td>a4</td>\n",
       "      <td>2.8</td>\n",
       "      <td>1999</td>\n",
       "      <td>6</td>\n",
       "      <td>auto(l5)</td>\n",
       "      <td>f</td>\n",
       "      <td>16</td>\n",
       "      <td>26</td>\n",
       "      <td>p</td>\n",
       "      <td>compact</td>\n",
       "      <td>21.0</td>\n",
       "    </tr>\n",
       "  </tbody>\n",
       "</table>\n",
       "</div>"
      ],
      "text/plain": [
       "  manufacturer model  displ  year  cyl       trans drv  cty  hwy fl    class  \\\n",
       "1         audi    a4    1.8  1999    4    auto(l5)   f   18   29  p  compact   \n",
       "2         audi    a4    1.8  1999    4  manual(m5)   f   21   29  p  compact   \n",
       "3         audi    a4    2.0  2008    4  manual(m6)   f   20   31  p  compact   \n",
       "4         audi    a4    2.0  2008    4    auto(av)   f   21   30  p  compact   \n",
       "5         audi    a4    2.8  1999    6    auto(l5)   f   16   26  p  compact   \n",
       "\n",
       "   cty_hwy_avg  \n",
       "1         23.5  \n",
       "2         25.0  \n",
       "3         25.5  \n",
       "4         25.5  \n",
       "5         21.0  "
      ]
     },
     "execution_count": 18,
     "metadata": {},
     "output_type": "execute_result"
    }
   ],
   "source": [
    "mpg['cty_hwy_avg'] = (mpg.cty + mpg.hwy) / 2\n",
    "mpg.head()"
   ]
  },
  {
   "cell_type": "code",
   "execution_count": 31,
   "id": "454f1b2c",
   "metadata": {},
   "outputs": [
    {
     "name": "stdout",
     "output_type": "stream",
     "text": [
      "There were 117 models in 1999\n",
      " and 117 models in 2008.\n"
     ]
    }
   ],
   "source": [
    "mpg_2008 = mpg[mpg.year == 2008].cty_hwy_avg\n",
    "mpg_1999 = mpg[mpg.year == 1999].cty_hwy_avg\n",
    "print(f'There were {len(mpg_1999)} models in 1999\\n and {len(mpg_2008)} models in 2008.' )"
   ]
  },
  {
   "cell_type": "code",
   "execution_count": 28,
   "id": "5bbb296e",
   "metadata": {},
   "outputs": [
    {
     "data": {
      "image/png": "[encoded data removed]",
      "text/plain": [
       "<Figure size 640x480 with 1 Axes>"
      ]
     },
     "metadata": {},
     "output_type": "display_data"
    }
   ],
   "source": [
    "plt.hist(mpg_1999)\n",
    "plt.show()"
   ]
  },
  {
   "cell_type": "code",
   "execution_count": 32,
   "id": "d12ebe88",
   "metadata": {},
   "outputs": [
    {
     "data": {
      "image/png": "[encoded data removed]",
      "text/plain": [
       "<Figure size 640x480 with 1 Axes>"
      ]
     },
     "metadata": {},
     "output_type": "display_data"
    }
   ],
   "source": [
    "plt.hist(mpg_2008)\n",
    "plt.show()"
   ]
  },
  {
   "cell_type": "code",
   "execution_count": 33,
   "id": "a472679c",
   "metadata": {},
   "outputs": [],
   "source": [
    "# even though the distributions are not exactly normal, with sample size of 117,\n",
    "# and no significant outliers, by the CLT they should produce normal distributions\n",
    "# of the sample means."
   ]
  },
  {
   "cell_type": "code",
   "execution_count": 35,
   "id": "4283649a",
   "metadata": {},
   "outputs": [
    {
     "data": {
      "text/plain": [
       "LeveneResult(statistic=0.033228136671080453, pvalue=0.855517569468803)"
      ]
     },
     "execution_count": 35,
     "metadata": {},
     "output_type": "execute_result"
    }
   ],
   "source": [
    "# test the relative variance:\n",
    "stats.levene(mpg_1999, mpg_2008)"
   ]
  },
  {
   "cell_type": "code",
   "execution_count": 36,
   "id": "94c29bc4",
   "metadata": {},
   "outputs": [],
   "source": [
    "# the p_value > α=0.05, therefore reject H0 that variances are equal."
   ]
  },
  {
   "cell_type": "code",
   "execution_count": 38,
   "id": "1bacfadf",
   "metadata": {},
   "outputs": [],
   "source": [
    "t_stat_3a, p_value_3a = stats.ttest_ind(mpg_1999, mpg_2008, equal_var=True)"
   ]
  },
  {
   "cell_type": "code",
   "execution_count": 39,
   "id": "069e0983",
   "metadata": {},
   "outputs": [
    {
     "data": {
      "text/plain": [
       "0.21960177245940962"
      ]
     },
     "execution_count": 39,
     "metadata": {},
     "output_type": "execute_result"
    }
   ],
   "source": [
    "t_stat_3a"
   ]
  },
  {
   "cell_type": "code",
   "execution_count": 41,
   "id": "7caa8442",
   "metadata": {},
   "outputs": [
    {
     "data": {
      "text/plain": [
       "0.8263744040323578"
      ]
     },
     "execution_count": 41,
     "metadata": {},
     "output_type": "execute_result"
    }
   ],
   "source": [
    "p_value_3a"
   ]
  },
  {
   "cell_type": "code",
   "execution_count": 42,
   "id": "c4875134",
   "metadata": {},
   "outputs": [
    {
     "data": {
      "text/plain": [
       "False"
      ]
     },
     "execution_count": 42,
     "metadata": {},
     "output_type": "execute_result"
    }
   ],
   "source": [
    "p_value_3a < α"
   ]
  },
  {
   "cell_type": "markdown",
   "id": "2e2efb85",
   "metadata": {},
   "source": [
    "#### 3a. ANSWER: p is not less than alpha, therefore cannot reject the null hypothesis that there is a significant difference between the mean mpg in 2008 and 1999."
   ]
  },
  {
   "cell_type": "markdown",
   "id": "24f1d8e8",
   "metadata": {},
   "source": [
    "#### 3b. - Are compact cars more fuel-efficient than the average car?\n"
   ]
  },
  {
   "cell_type": "code",
   "execution_count": 44,
   "id": "194088a6",
   "metadata": {},
   "outputs": [
    {
     "data": {
      "text/html": [
       "<div>\n",
       "<style scoped>\n",
       "    .dataframe tbody tr th:only-of-type {\n",
       "        vertical-align: middle;\n",
       "    }\n",
       "\n",
       "    .dataframe tbody tr th {\n",
       "        vertical-align: top;\n",
       "    }\n",
       "\n",
       "    .dataframe thead th {\n",
       "        text-align: right;\n",
       "    }\n",
       "</style>\n",
       "<table border=\"1\" class=\"dataframe\">\n",
       "  <thead>\n",
       "    <tr style=\"text-align: right;\">\n",
       "      <th></th>\n",
       "      <th>manufacturer</th>\n",
       "      <th>model</th>\n",
       "      <th>displ</th>\n",
       "      <th>year</th>\n",
       "      <th>cyl</th>\n",
       "      <th>trans</th>\n",
       "      <th>drv</th>\n",
       "      <th>cty</th>\n",
       "      <th>hwy</th>\n",
       "      <th>fl</th>\n",
       "      <th>class</th>\n",
       "      <th>cty_hwy_avg</th>\n",
       "    </tr>\n",
       "  </thead>\n",
       "  <tbody>\n",
       "    <tr>\n",
       "      <th>1</th>\n",
       "      <td>audi</td>\n",
       "      <td>a4</td>\n",
       "      <td>1.8</td>\n",
       "      <td>1999</td>\n",
       "      <td>4</td>\n",
       "      <td>auto(l5)</td>\n",
       "      <td>f</td>\n",
       "      <td>18</td>\n",
       "      <td>29</td>\n",
       "      <td>p</td>\n",
       "      <td>compact</td>\n",
       "      <td>23.5</td>\n",
       "    </tr>\n",
       "    <tr>\n",
       "      <th>2</th>\n",
       "      <td>audi</td>\n",
       "      <td>a4</td>\n",
       "      <td>1.8</td>\n",
       "      <td>1999</td>\n",
       "      <td>4</td>\n",
       "      <td>manual(m5)</td>\n",
       "      <td>f</td>\n",
       "      <td>21</td>\n",
       "      <td>29</td>\n",
       "      <td>p</td>\n",
       "      <td>compact</td>\n",
       "      <td>25.0</td>\n",
       "    </tr>\n",
       "    <tr>\n",
       "      <th>3</th>\n",
       "      <td>audi</td>\n",
       "      <td>a4</td>\n",
       "      <td>2.0</td>\n",
       "      <td>2008</td>\n",
       "      <td>4</td>\n",
       "      <td>manual(m6)</td>\n",
       "      <td>f</td>\n",
       "      <td>20</td>\n",
       "      <td>31</td>\n",
       "      <td>p</td>\n",
       "      <td>compact</td>\n",
       "      <td>25.5</td>\n",
       "    </tr>\n",
       "  </tbody>\n",
       "</table>\n",
       "</div>"
      ],
      "text/plain": [
       "  manufacturer model  displ  year  cyl       trans drv  cty  hwy fl    class  \\\n",
       "1         audi    a4    1.8  1999    4    auto(l5)   f   18   29  p  compact   \n",
       "2         audi    a4    1.8  1999    4  manual(m5)   f   21   29  p  compact   \n",
       "3         audi    a4    2.0  2008    4  manual(m6)   f   20   31  p  compact   \n",
       "\n",
       "   cty_hwy_avg  \n",
       "1         23.5  \n",
       "2         25.0  \n",
       "3         25.5  "
      ]
     },
     "execution_count": 44,
     "metadata": {},
     "output_type": "execute_result"
    }
   ],
   "source": [
    "mpg.head(3)"
   ]
  },
  {
   "cell_type": "code",
   "execution_count": null,
   "id": "7cf5f012",
   "metadata": {},
   "outputs": [],
   "source": [
    "# 'compact' is a subcategory of 'class' column\n",
    "# comparing to *all* cars so...\n",
    "# Type of test will be one-sample\n",
    "# 'Are compact *more* fuel efficient?' so this is one-tailed test\n",
    "\n",
    "# validation of assumptions:\n",
    "    # Random: assuming the mpg sampling methodology was good.\n",
    "    # Independence: Yes. compact will be separated from all cars\n",
    "    # Normal: yes, and over thirty sample sizes\n",
    "    # Equal Var: n/a for this type of test\n"
   ]
  },
  {
   "cell_type": "markdown",
   "id": "cbd1bbc4",
   "metadata": {},
   "source": [
    "H$_0$: Compact cars are less than or the same fuel efficiency as the average car\n",
    "\n",
    "H$_a$: Compact cars are more fuel efficient than the overall average of cars"
   ]
  },
  {
   "cell_type": "code",
   "execution_count": 59,
   "id": "146008b5",
   "metadata": {},
   "outputs": [
    {
     "name": "stdout",
     "output_type": "stream",
     "text": [
      "There were 47 compact models\n",
      " and 234 total models in the dataset.\n"
     ]
    }
   ],
   "source": [
    "compact_mpg = mpg[mpg['class'] == 'compact'].cty_hwy_avg\n",
    "print(f'There were {len(compact_mpg)} compact models\\n and {len(mpg.model)} total models in the dataset.' )\n"
   ]
  },
  {
   "cell_type": "code",
   "execution_count": 60,
   "id": "d40afd5d",
   "metadata": {},
   "outputs": [
    {
     "data": {
      "image/png": "[encoded data removed]",
      "text/plain": [
       "<Figure size 640x480 with 1 Axes>"
      ]
     },
     "metadata": {},
     "output_type": "display_data"
    }
   ],
   "source": [
    "plt.hist(mpg.cty_hwy_avg)\n",
    "plt.show()"
   ]
  },
  {
   "cell_type": "code",
   "execution_count": 61,
   "id": "da58090e",
   "metadata": {},
   "outputs": [
    {
     "data": {
      "image/png": "[encoded data removed]",
      "text/plain": [
       "<Figure size 640x480 with 1 Axes>"
      ]
     },
     "metadata": {},
     "output_type": "display_data"
    }
   ],
   "source": [
    "plt.hist(compact_mpg)\n",
    "plt.show()"
   ]
  },
  {
   "cell_type": "code",
   "execution_count": 70,
   "id": "75ff1079",
   "metadata": {},
   "outputs": [
    {
     "name": "stdout",
     "output_type": "stream",
     "text": [
      "t=7.896888573132533, p=4.1985637943171486e-10\n"
     ]
    }
   ],
   "source": [
    "avg_mpg_all_models = mpg.cty_hwy_avg.mean()\n",
    "avg_mpg_all_models\n",
    "t_stat_3b, p_value_3b = stats.ttest_1samp(compact_mpg, avg_mpg_all_models)\n",
    "print(f't={t_stat_3b}, p={p_value_3b}')"
   ]
  },
  {
   "cell_type": "code",
   "execution_count": 72,
   "id": "ff7596b5",
   "metadata": {},
   "outputs": [
    {
     "data": {
      "text/plain": [
       "True"
      ]
     },
     "execution_count": 72,
     "metadata": {},
     "output_type": "execute_result"
    }
   ],
   "source": [
    "# divide p by two for one_tail test:\n",
    "(p_value_3b / 2 < α) & (t_stat_3b > 0)"
   ]
  },
  {
   "cell_type": "markdown",
   "id": "7f6476ed",
   "metadata": {},
   "source": [
    "#### 3b. ANSWER: p/2 < α, t > 0 therefore reject the null hypothesis that compact cars have the same fuel efficiency as the average car. "
   ]
  },
  {
   "cell_type": "markdown",
   "id": "3f1abab2",
   "metadata": {},
   "source": [
    "#### 3c. Do manual cars get better gas mileage than automatic cars?\n"
   ]
  },
  {
   "cell_type": "code",
   "execution_count": 74,
   "id": "54d68d35",
   "metadata": {},
   "outputs": [
    {
     "data": {
      "text/html": [
       "<div>\n",
       "<style scoped>\n",
       "    .dataframe tbody tr th:only-of-type {\n",
       "        vertical-align: middle;\n",
       "    }\n",
       "\n",
       "    .dataframe tbody tr th {\n",
       "        vertical-align: top;\n",
       "    }\n",
       "\n",
       "    .dataframe thead th {\n",
       "        text-align: right;\n",
       "    }\n",
       "</style>\n",
       "<table border=\"1\" class=\"dataframe\">\n",
       "  <thead>\n",
       "    <tr style=\"text-align: right;\">\n",
       "      <th></th>\n",
       "      <th>manufacturer</th>\n",
       "      <th>model</th>\n",
       "      <th>displ</th>\n",
       "      <th>year</th>\n",
       "      <th>cyl</th>\n",
       "      <th>trans</th>\n",
       "      <th>drv</th>\n",
       "      <th>cty</th>\n",
       "      <th>hwy</th>\n",
       "      <th>fl</th>\n",
       "      <th>class</th>\n",
       "      <th>cty_hwy_avg</th>\n",
       "    </tr>\n",
       "  </thead>\n",
       "  <tbody>\n",
       "    <tr>\n",
       "      <th>1</th>\n",
       "      <td>audi</td>\n",
       "      <td>a4</td>\n",
       "      <td>1.8</td>\n",
       "      <td>1999</td>\n",
       "      <td>4</td>\n",
       "      <td>auto(l5)</td>\n",
       "      <td>f</td>\n",
       "      <td>18</td>\n",
       "      <td>29</td>\n",
       "      <td>p</td>\n",
       "      <td>compact</td>\n",
       "      <td>23.5</td>\n",
       "    </tr>\n",
       "    <tr>\n",
       "      <th>2</th>\n",
       "      <td>audi</td>\n",
       "      <td>a4</td>\n",
       "      <td>1.8</td>\n",
       "      <td>1999</td>\n",
       "      <td>4</td>\n",
       "      <td>manual(m5)</td>\n",
       "      <td>f</td>\n",
       "      <td>21</td>\n",
       "      <td>29</td>\n",
       "      <td>p</td>\n",
       "      <td>compact</td>\n",
       "      <td>25.0</td>\n",
       "    </tr>\n",
       "    <tr>\n",
       "      <th>3</th>\n",
       "      <td>audi</td>\n",
       "      <td>a4</td>\n",
       "      <td>2.0</td>\n",
       "      <td>2008</td>\n",
       "      <td>4</td>\n",
       "      <td>manual(m6)</td>\n",
       "      <td>f</td>\n",
       "      <td>20</td>\n",
       "      <td>31</td>\n",
       "      <td>p</td>\n",
       "      <td>compact</td>\n",
       "      <td>25.5</td>\n",
       "    </tr>\n",
       "    <tr>\n",
       "      <th>4</th>\n",
       "      <td>audi</td>\n",
       "      <td>a4</td>\n",
       "      <td>2.0</td>\n",
       "      <td>2008</td>\n",
       "      <td>4</td>\n",
       "      <td>auto(av)</td>\n",
       "      <td>f</td>\n",
       "      <td>21</td>\n",
       "      <td>30</td>\n",
       "      <td>p</td>\n",
       "      <td>compact</td>\n",
       "      <td>25.5</td>\n",
       "    </tr>\n",
       "    <tr>\n",
       "      <th>5</th>\n",
       "      <td>audi</td>\n",
       "      <td>a4</td>\n",
       "      <td>2.8</td>\n",
       "      <td>1999</td>\n",
       "      <td>6</td>\n",
       "      <td>auto(l5)</td>\n",
       "      <td>f</td>\n",
       "      <td>16</td>\n",
       "      <td>26</td>\n",
       "      <td>p</td>\n",
       "      <td>compact</td>\n",
       "      <td>21.0</td>\n",
       "    </tr>\n",
       "  </tbody>\n",
       "</table>\n",
       "</div>"
      ],
      "text/plain": [
       "  manufacturer model  displ  year  cyl       trans drv  cty  hwy fl    class  \\\n",
       "1         audi    a4    1.8  1999    4    auto(l5)   f   18   29  p  compact   \n",
       "2         audi    a4    1.8  1999    4  manual(m5)   f   21   29  p  compact   \n",
       "3         audi    a4    2.0  2008    4  manual(m6)   f   20   31  p  compact   \n",
       "4         audi    a4    2.0  2008    4    auto(av)   f   21   30  p  compact   \n",
       "5         audi    a4    2.8  1999    6    auto(l5)   f   16   26  p  compact   \n",
       "\n",
       "   cty_hwy_avg  \n",
       "1         23.5  \n",
       "2         25.0  \n",
       "3         25.5  \n",
       "4         25.5  \n",
       "5         21.0  "
      ]
     },
     "execution_count": 74,
     "metadata": {},
     "output_type": "execute_result"
    }
   ],
   "source": [
    "mpg.head()"
   ]
  },
  {
   "cell_type": "code",
   "execution_count": 76,
   "id": "101c6624",
   "metadata": {},
   "outputs": [],
   "source": [
    "# have to filter the 'trans' column for manual and auto and store as vars\n",
    "\n",
    "auto_trans_mpg = mpg[mpg.trans.str.startswith('auto')].cty_hwy_avg\n",
    "man_trans_mpg = mpg[mpg.trans.str.startswith('manual')].cty_hwy_avg\n",
    "\n",
    "# Type of test needed:\n",
    "#     two-sample t-test because of two subcategories\n",
    "#     one_tailed because asking for directionality\n",
    "# validate assumptions:\n",
    "#     random: yes. trusting study methodology\n",
    "#     independent: yes. two separate subcategories\n",
    "#     normal: yes.\n",
    "#     variance equal?: No. Must use Walsh option"
   ]
  },
  {
   "cell_type": "markdown",
   "id": "bc9ff8c9",
   "metadata": {},
   "source": [
    "H$_0$: manual transmission cars get the same or worse gas mileage than automatic cars\n",
    "\n",
    "H$_a$: manual transmission cars get better gas mileage than automatic cars."
   ]
  },
  {
   "cell_type": "code",
   "execution_count": 78,
   "id": "a08012d4",
   "metadata": {},
   "outputs": [
    {
     "data": {
      "image/png": "[encoded data removed]",
      "text/plain": [
       "<Figure size 640x480 with 1 Axes>"
      ]
     },
     "metadata": {},
     "output_type": "display_data"
    }
   ],
   "source": [
    "# check for normalcy\n",
    "plt.hist(auto_trans_mpg)\n",
    "plt.show()"
   ]
  },
  {
   "cell_type": "code",
   "execution_count": 80,
   "id": "46d9d66b",
   "metadata": {},
   "outputs": [
    {
     "data": {
      "image/png": "[encoded data removed]",
      "text/plain": [
       "<Figure size 640x480 with 1 Axes>"
      ]
     },
     "metadata": {},
     "output_type": "display_data"
    }
   ],
   "source": [
    "plt.hist(man_trans_mpg)\n",
    "plt.show()"
   ]
  },
  {
   "cell_type": "code",
   "execution_count": 81,
   "id": "abb5524a",
   "metadata": {},
   "outputs": [],
   "source": [
    "#both normal-ish"
   ]
  },
  {
   "cell_type": "code",
   "execution_count": 88,
   "id": "94e8e160",
   "metadata": {},
   "outputs": [
    {
     "data": {
      "text/plain": [
       "LeveneResult(statistic=0.20075824847529639, pvalue=0.6545276355131857)"
      ]
     },
     "execution_count": 88,
     "metadata": {},
     "output_type": "execute_result"
    }
   ],
   "source": [
    "# check for equal variance with levene\n",
    "stats.levene(man_trans_mpg, auto_trans_mpg)"
   ]
  },
  {
   "cell_type": "code",
   "execution_count": 89,
   "id": "94e72e2c",
   "metadata": {},
   "outputs": [],
   "source": [
    "# cannot reject the null hyp that the variances are equal\n"
   ]
  },
  {
   "cell_type": "code",
   "execution_count": 90,
   "id": "03dbb0c1",
   "metadata": {},
   "outputs": [],
   "source": [
    "t_stat_3c, p_value_3c = stats.ttest_ind(man_trans_mpg, auto_trans_mpg, equal_var=False)"
   ]
  },
  {
   "cell_type": "code",
   "execution_count": 94,
   "id": "62c5b955",
   "metadata": {},
   "outputs": [
    {
     "data": {
      "text/plain": [
       "True"
      ]
     },
     "execution_count": 94,
     "metadata": {},
     "output_type": "execute_result"
    }
   ],
   "source": [
    "(p_value_3c / 2 < α) & (t_stat_3c > 0)"
   ]
  },
  {
   "cell_type": "code",
   "execution_count": 92,
   "id": "c4e976fb",
   "metadata": {},
   "outputs": [
    {
     "data": {
      "text/plain": [
       "4.443514012903072"
      ]
     },
     "execution_count": 92,
     "metadata": {},
     "output_type": "execute_result"
    }
   ],
   "source": [
    "t_stat_3c"
   ]
  },
  {
   "cell_type": "code",
   "execution_count": 93,
   "id": "f3ca0462",
   "metadata": {},
   "outputs": [
    {
     "data": {
      "text/plain": [
       "1.7952248999917893e-05"
      ]
     },
     "execution_count": 93,
     "metadata": {},
     "output_type": "execute_result"
    }
   ],
   "source": [
    "p_value_3c"
   ]
  },
  {
   "cell_type": "markdown",
   "id": "704982f6",
   "metadata": {},
   "source": [
    "#### 3c. Reject the null hypothesis that manual transmission cars get the same or worse gas mileage than automatic cars."
   ]
  },
  {
   "cell_type": "code",
   "execution_count": null,
   "id": "a3bfd293",
   "metadata": {},
   "outputs": [],
   "source": []
  }
 ],
 "metadata": {
  "kernelspec": {
   "display_name": "Python 3 (ipykernel)",
   "language": "python",
   "name": "python3"
  },
  "language_info": {
   "codemirror_mode": {
    "name": "ipython",
    "version": 3
   },
   "file_extension": ".py",
   "mimetype": "text/x-python",
   "name": "python",
   "nbconvert_exporter": "python",
   "pygments_lexer": "ipython3",
   "version": "3.9.13"
  }
 },
 "nbformat": 4,
 "nbformat_minor": 5
}
