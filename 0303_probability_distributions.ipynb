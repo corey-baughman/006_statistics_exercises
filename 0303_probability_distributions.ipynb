{
 "cells": [
  {
   "cell_type": "markdown",
   "id": "e7638a71",
   "metadata": {},
   "source": [
    "# Probability Distributions Exercises\n",
    "### For the following problems, use python to simulate the problem and calculate an experimental probability, then compare that to the theoretical probability.\n",
    "\n"
   ]
  },
  {
   "cell_type": "code",
   "execution_count": 17,
   "id": "c9e9ae3c",
   "metadata": {},
   "outputs": [],
   "source": [
    "import numpy as np\n",
    "import pandas as pd\n",
    "import matplotlib.pyplot as plt\n",
    "from scipy import stats\n",
    "import env"
   ]
  },
  {
   "cell_type": "markdown",
   "id": "98ed54e4",
   "metadata": {},
   "source": [
    "#### 1. A bank found that the average number of cars waiting during the noon hour at a drive-up window follows a Poisson distribution with a mean of 2 cars. Make a chart of this distribution and answer these questions concerning the probability of cars waiting at the drive-up window.\n",
    "> What is the probability that no cars drive up in the noon hour?\n",
    "0.1353\n",
    "\n",
    "> What is the probability that 3 or more cars come through the drive through?\n",
    "0.3233\n",
    "\n",
    "> How likely is it that the drive through gets at least 1 car?\n",
    "0.8647"
   ]
  },
  {
   "cell_type": "code",
   "execution_count": 15,
   "id": "2142dd8d",
   "metadata": {},
   "outputs": [],
   "source": [
    "cars_in_line = stats.poisson(2)"
   ]
  },
  {
   "cell_type": "code",
   "execution_count": 17,
   "id": "cf8a366f",
   "metadata": {},
   "outputs": [
    {
     "data": {
      "text/plain": [
       "Text(0.5, 1.0, 'Distribution of 10,000 Car Lines at Drive Up')"
      ]
     },
     "execution_count": 17,
     "metadata": {},
     "output_type": "execute_result"
    },
    {
     "data": {
      "image/png": "[encoded data removed]",
      "text/plain": [
       "<Figure size 640x480 with 1 Axes>"
      ]
     },
     "metadata": {},
     "output_type": "display_data"
    }
   ],
   "source": [
    "n = 10_000\n",
    "\n",
    "x = cars_in_line.rvs(n)\n",
    "\n",
    "plt.hist(x, bins=range(0, 10), align='left', width=1, edgecolor='black')\n",
    "plt.title(f'Distribution of {n:,} Car Lines at Drive Up')"
   ]
  },
  {
   "cell_type": "code",
   "execution_count": 35,
   "id": "60421edd",
   "metadata": {},
   "outputs": [
    {
     "data": {
      "text/plain": [
       "0.1353"
      ]
     },
     "execution_count": 35,
     "metadata": {},
     "output_type": "execute_result"
    }
   ],
   "source": [
    "cars_in_line.pmf(0).round(4)"
   ]
  },
  {
   "cell_type": "code",
   "execution_count": 27,
   "id": "51ed0e1b",
   "metadata": {},
   "outputs": [
    {
     "data": {
      "text/plain": [
       "0.1353352832366127"
      ]
     },
     "execution_count": 27,
     "metadata": {},
     "output_type": "execute_result"
    }
   ],
   "source": [
    "cars_in_line.cdf(0).round(4)"
   ]
  },
  {
   "cell_type": "code",
   "execution_count": 36,
   "id": "60abb5ce",
   "metadata": {},
   "outputs": [
    {
     "data": {
      "text/plain": [
       "0.3233"
      ]
     },
     "execution_count": 36,
     "metadata": {},
     "output_type": "execute_result"
    }
   ],
   "source": [
    "cars_in_line.sf(2).round(4)"
   ]
  },
  {
   "cell_type": "code",
   "execution_count": 39,
   "id": "08544a6d",
   "metadata": {},
   "outputs": [
    {
     "data": {
      "text/plain": [
       "0.3233"
      ]
     },
     "execution_count": 39,
     "metadata": {},
     "output_type": "execute_result"
    }
   ],
   "source": [
    "(1 - cars_in_line.cdf(2)).round(4)"
   ]
  },
  {
   "cell_type": "code",
   "execution_count": 41,
   "id": "70310018",
   "metadata": {},
   "outputs": [
    {
     "data": {
      "text/plain": [
       "0.8647"
      ]
     },
     "execution_count": 41,
     "metadata": {},
     "output_type": "execute_result"
    }
   ],
   "source": [
    "cars_in_line.sf(0).round(4)"
   ]
  },
  {
   "cell_type": "markdown",
   "id": "8cc0c8e7",
   "metadata": {},
   "source": [
    "#### 2. Grades of State University graduates are normally distributed with a mean of 3.0 and a standard deviation of .3. Calculate the following:\n",
    "- What grade point average is required to be in the top 5% of the graduating class?\n",
    "\n",
    "3.4935 or above.\n",
    "\n",
    "- What GPA constitutes the bottom 15% of the class?\n",
    "\n",
    "2.6891 or below.\n",
    "\n",
    "- An eccentric alumnus left scholarship money for students in the third decile from the bottom of their class. Determine the range of the third decile. Would a student with a 2.8 grade point average qualify for this scholarship?\n",
    "\n",
    "GPA Range of Third Decile is 2.7475-2.8427 \n",
    "Student with 2.8 would qualify.\n",
    "\n",
    "- If I have a GPA of 3.5, what percentile am I in?\n",
    "\n",
    "The 95th percentile.\n"
   ]
  },
  {
   "cell_type": "code",
   "execution_count": 59,
   "id": "f7380143",
   "metadata": {},
   "outputs": [],
   "source": [
    "grades = stats.norm(3.0, 0.3)"
   ]
  },
  {
   "cell_type": "code",
   "execution_count": 45,
   "id": "b0a08d47",
   "metadata": {},
   "outputs": [
    {
     "data": {
      "text/plain": [
       "3.4935"
      ]
     },
     "execution_count": 45,
     "metadata": {},
     "output_type": "execute_result"
    }
   ],
   "source": [
    "grades.isf(0.05).round(4)"
   ]
  },
  {
   "cell_type": "code",
   "execution_count": 47,
   "id": "0f95ece7",
   "metadata": {},
   "outputs": [
    {
     "data": {
      "text/plain": [
       "2.6891"
      ]
     },
     "execution_count": 47,
     "metadata": {},
     "output_type": "execute_result"
    }
   ],
   "source": [
    "grades.ppf(.15).round(4)"
   ]
  },
  {
   "cell_type": "code",
   "execution_count": 58,
   "id": "6618e460",
   "metadata": {},
   "outputs": [
    {
     "name": "stdout",
     "output_type": "stream",
     "text": [
      "GPA Range of Third Decile is 2.7475-2.8427\n"
     ]
    }
   ],
   "source": [
    "third_dec_top = grades.ppf(.3).round(4)\n",
    "third_dec_bottom = grades.ppf(.2).round(4)\n",
    "print(f'GPA Range of Third Decile is {third_dec_bottom}-{third_dec_top}')"
   ]
  },
  {
   "cell_type": "code",
   "execution_count": 53,
   "id": "512e2a3f",
   "metadata": {},
   "outputs": [
    {
     "data": {
      "text/plain": [
       "0.9522"
      ]
     },
     "execution_count": 53,
     "metadata": {},
     "output_type": "execute_result"
    }
   ],
   "source": [
    "grades.cdf(3.5).round(4)"
   ]
  },
  {
   "cell_type": "markdown",
   "id": "82a7366d",
   "metadata": {},
   "source": [
    "#### 3. A marketing website has an average click-through rate of 2%. One day they observe 4326 visitors and 97 click-throughs. How likely is it that this many people or more click through?\n",
    "Probability of about .1178\n"
   ]
  },
  {
   "cell_type": "code",
   "execution_count": 54,
   "id": "7e884e0e",
   "metadata": {},
   "outputs": [],
   "source": [
    "# setup as a binomial distribution\n",
    "# P(success(a click-through)) = .02\n",
    "# P(failure(no click-through)) = 0.98\n",
    "\n",
    "clicks = stats.binom(4326, .02)"
   ]
  },
  {
   "cell_type": "code",
   "execution_count": 60,
   "id": "d8466e73",
   "metadata": {},
   "outputs": [
    {
     "data": {
      "text/plain": [
       "0.1398"
      ]
     },
     "execution_count": 60,
     "metadata": {},
     "output_type": "execute_result"
    }
   ],
   "source": [
    "clicks.sf(96).round(4)"
   ]
  },
  {
   "cell_type": "markdown",
   "id": "c6a38e15",
   "metadata": {},
   "source": [
    "#### 4. You are working on some statistics homework consisting of 100 questions where all of the answers are a probability rounded to the hundreths place. Looking to save time, you put down random probabilities as the answer to each question.\n",
    "> What is the probability that at least one of your first 60 answers is correct?\n",
    "\n",
    "\n"
   ]
  },
  {
   "cell_type": "code",
   "execution_count": null,
   "id": "fde3b5ef",
   "metadata": {},
   "outputs": [],
   "source": [
    "# 100 questions, each with 100 possible answers.\n",
    "# probability between 0 and 1\n",
    "# success rate: 0.01\n",
    "# number of trials = 60\n",
    "# use binomial with we"
   ]
  },
  {
   "cell_type": "markdown",
   "id": "8043946d",
   "metadata": {},
   "source": [
    "#### 5. The codeup staff tends to get upset when the student break area is not cleaned up. Suppose that there's a 3% chance that any one student cleans the break area when they visit it, and, on any given day, about 90% of the 3 active cohorts of 22 students visit the break area. How likely is it that the break area gets cleaned up each day? How likely is it that it goes two days without getting cleaned up? All week?\n",
    "\n"
   ]
  },
  {
   "cell_type": "code",
   "execution_count": 2,
   "id": "e09d8725",
   "metadata": {},
   "outputs": [],
   "source": [
    "trials = round(3 * 22 *.9)"
   ]
  },
  {
   "cell_type": "code",
   "execution_count": 3,
   "id": "11586856",
   "metadata": {},
   "outputs": [],
   "source": [
    "prob_success = 0.03"
   ]
  },
  {
   "cell_type": "code",
   "execution_count": 6,
   "id": "5695970d",
   "metadata": {},
   "outputs": [],
   "source": [
    "clean_dist = stats.binom(trials, prob_success)"
   ]
  },
  {
   "cell_type": "code",
   "execution_count": 7,
   "id": "70043f58",
   "metadata": {},
   "outputs": [
    {
     "data": {
      "text/plain": [
       "0.8342199288437352"
      ]
     },
     "execution_count": 7,
     "metadata": {},
     "output_type": "execute_result"
    }
   ],
   "source": [
    "clean_dist.sf(0)"
   ]
  },
  {
   "cell_type": "code",
   "execution_count": 9,
   "id": "0d8a2e2e",
   "metadata": {},
   "outputs": [
    {
     "data": {
      "text/plain": [
       "0.027483031992576134"
      ]
     },
     "execution_count": 9,
     "metadata": {},
     "output_type": "execute_result"
    }
   ],
   "source": [
    "stats.binom(trials * 2, prob_success).pmf(0)"
   ]
  },
  {
   "cell_type": "code",
   "execution_count": 10,
   "id": "333453ee",
   "metadata": {},
   "outputs": [
    {
     "data": {
      "text/plain": [
       "0.00012521651388091245"
      ]
     },
     "execution_count": 10,
     "metadata": {},
     "output_type": "execute_result"
    }
   ],
   "source": [
    "stats.binom(trials * 5, prob_success).pmf(0)"
   ]
  },
  {
   "cell_type": "markdown",
   "id": "44b754b6",
   "metadata": {},
   "source": [
    "#### 6. You want to get lunch at La Panaderia, but notice that the line is usually very long at lunchtime. After several weeks of careful observation, you notice that the average number of people in line when your lunch break starts is normally distributed with a mean of 15 and standard deviation of 3. If it takes 2 minutes for each person to order, and 10 minutes from ordering to getting your food, what is the likelihood that you have at least 15 minutes left to eat your food before you have to go back to class? Assume you have one hour for lunch, and ignore travel time to and from La Panaderia.\n",
    "\n"
   ]
  },
  {
   "cell_type": "code",
   "execution_count": 13,
   "id": "833905d5",
   "metadata": {},
   "outputs": [
    {
     "data": {
      "text/plain": [
       "33"
      ]
     },
     "execution_count": 13,
     "metadata": {},
     "output_type": "execute_result"
    }
   ],
   "source": [
    "μ = 15 * 2\n",
    "σ = 3 * 2\n",
    "\n",
    "60-15-10-2"
   ]
  },
  {
   "cell_type": "code",
   "execution_count": 14,
   "id": "204e6911",
   "metadata": {},
   "outputs": [],
   "source": [
    "lunch_time = stats.norm(μ, σ)"
   ]
  },
  {
   "cell_type": "code",
   "execution_count": 16,
   "id": "026461f7",
   "metadata": {},
   "outputs": [
    {
     "data": {
      "text/plain": [
       "0.6914624612740131"
      ]
     },
     "execution_count": 16,
     "metadata": {},
     "output_type": "execute_result"
    }
   ],
   "source": [
    "lunch_time.cdf(33)"
   ]
  },
  {
   "cell_type": "markdown",
   "id": "e2fac868",
   "metadata": {},
   "source": [
    "#### 7. Connect to the employees database and find the average salary of current employees, along with the standard deviation. For the following questions, calculate the answer based on modeling the employees salaries with a normal distribution defined by the calculated mean and standard deviation then compare this answer to the actual values present in the salaries dataset.\n",
    "\n",
    "> a. What percent of employees earn less than 60,000?\n",
    "\n",
    "> b. What percent of employees earn more than 95,000?\n",
    "\n",
    "> c. What percent of employees earn between 65,000 and 80,000?\n",
    "\n",
    "> d. What do the top 5% of employees make?\n"
   ]
  },
  {
   "cell_type": "markdown",
   "id": "c9b52298",
   "metadata": {},
   "source": [
    "#### Hint If you're looking at this exercise and wondering \"How do I get pandas to talk the database, again?\", remember that you'll need 3 things: your .gitignore, your env.py, and to use pd.read_sql. Copy over your .gitignore and env.py from your data science libraries exercises folder, and connect to the employees database like so:\n",
    "\n"
   ]
  },
  {
   "cell_type": "code",
   "execution_count": 19,
   "id": "f127a962",
   "metadata": {},
   "outputs": [],
   "source": [
    "url = env.get_db_url('employees')\n",
    "query = '''\n",
    "SELECT *\n",
    "FROM salaries s\n",
    "WHERE s.to_date > NOW()\n",
    "'''\n",
    "salaries = pd.read_sql(query, url)"
   ]
  },
  {
   "cell_type": "code",
   "execution_count": 20,
   "id": "bb268221",
   "metadata": {},
   "outputs": [
    {
     "data": {
      "text/html": [
       "<div>\n",
       "<style scoped>\n",
       "    .dataframe tbody tr th:only-of-type {\n",
       "        vertical-align: middle;\n",
       "    }\n",
       "\n",
       "    .dataframe tbody tr th {\n",
       "        vertical-align: top;\n",
       "    }\n",
       "\n",
       "    .dataframe thead th {\n",
       "        text-align: right;\n",
       "    }\n",
       "</style>\n",
       "<table border=\"1\" class=\"dataframe\">\n",
       "  <thead>\n",
       "    <tr style=\"text-align: right;\">\n",
       "      <th></th>\n",
       "      <th>emp_no</th>\n",
       "      <th>salary</th>\n",
       "      <th>from_date</th>\n",
       "      <th>to_date</th>\n",
       "    </tr>\n",
       "  </thead>\n",
       "  <tbody>\n",
       "    <tr>\n",
       "      <th>0</th>\n",
       "      <td>10001</td>\n",
       "      <td>88958</td>\n",
       "      <td>2002-06-22</td>\n",
       "      <td>9999-01-01</td>\n",
       "    </tr>\n",
       "    <tr>\n",
       "      <th>1</th>\n",
       "      <td>10002</td>\n",
       "      <td>72527</td>\n",
       "      <td>2001-08-02</td>\n",
       "      <td>9999-01-01</td>\n",
       "    </tr>\n",
       "    <tr>\n",
       "      <th>2</th>\n",
       "      <td>10003</td>\n",
       "      <td>43311</td>\n",
       "      <td>2001-12-01</td>\n",
       "      <td>9999-01-01</td>\n",
       "    </tr>\n",
       "    <tr>\n",
       "      <th>3</th>\n",
       "      <td>10004</td>\n",
       "      <td>74057</td>\n",
       "      <td>2001-11-27</td>\n",
       "      <td>9999-01-01</td>\n",
       "    </tr>\n",
       "    <tr>\n",
       "      <th>4</th>\n",
       "      <td>10005</td>\n",
       "      <td>94692</td>\n",
       "      <td>2001-09-09</td>\n",
       "      <td>9999-01-01</td>\n",
       "    </tr>\n",
       "  </tbody>\n",
       "</table>\n",
       "</div>"
      ],
      "text/plain": [
       "   emp_no  salary   from_date     to_date\n",
       "0   10001   88958  2002-06-22  9999-01-01\n",
       "1   10002   72527  2001-08-02  9999-01-01\n",
       "2   10003   43311  2001-12-01  9999-01-01\n",
       "3   10004   74057  2001-11-27  9999-01-01\n",
       "4   10005   94692  2001-09-09  9999-01-01"
      ]
     },
     "execution_count": 20,
     "metadata": {},
     "output_type": "execute_result"
    }
   ],
   "source": [
    "salaries.head()"
   ]
  },
  {
   "cell_type": "code",
   "execution_count": 21,
   "id": "282d56ed",
   "metadata": {},
   "outputs": [],
   "source": [
    "μ = salaries.salary.mean()\n",
    "σ = salaries.salary.std()"
   ]
  },
  {
   "cell_type": "code",
   "execution_count": 22,
   "id": "61b5d217",
   "metadata": {},
   "outputs": [],
   "source": [
    "salary_dist = stats.norm(μ, σ)"
   ]
  },
  {
   "cell_type": "code",
   "execution_count": 23,
   "id": "e2fae902",
   "metadata": {},
   "outputs": [
    {
     "data": {
      "text/plain": [
       "24.39"
      ]
     },
     "execution_count": 23,
     "metadata": {},
     "output_type": "execute_result"
    }
   ],
   "source": [
    "round(salary_dist.cdf(60_000) * 100, 2)"
   ]
  },
  {
   "cell_type": "code",
   "execution_count": 24,
   "id": "be334a5e",
   "metadata": {},
   "outputs": [
    {
     "data": {
      "text/plain": [
       "9.21"
      ]
     },
     "execution_count": 24,
     "metadata": {},
     "output_type": "execute_result"
    }
   ],
   "source": [
    "round(salary_dist.sf(95_000) * 100, 2)"
   ]
  },
  {
   "cell_type": "code",
   "execution_count": 25,
   "id": "a50076db",
   "metadata": {},
   "outputs": [
    {
     "data": {
      "text/plain": [
       "0.3350605685446666"
      ]
     },
     "execution_count": 25,
     "metadata": {},
     "output_type": "execute_result"
    }
   ],
   "source": [
    "salary_dist.cdf(80_000) - salary_dist.cdf(65_000)"
   ]
  },
  {
   "cell_type": "code",
   "execution_count": 26,
   "id": "43e3435e",
   "metadata": {},
   "outputs": [
    {
     "data": {
      "text/plain": [
       "100484.64454102777"
      ]
     },
     "execution_count": 26,
     "metadata": {},
     "output_type": "execute_result"
    }
   ],
   "source": [
    "salary_dist.isf(0.05)"
   ]
  },
  {
   "cell_type": "code",
   "execution_count": null,
   "id": "4bc01cc0",
   "metadata": {},
   "outputs": [],
   "source": []
  }
 ],
 "metadata": {
  "kernelspec": {
   "display_name": "Python 3 (ipykernel)",
   "language": "python",
   "name": "python3"
  },
  "language_info": {
   "codemirror_mode": {
    "name": "ipython",
    "version": 3
   },
   "file_extension": ".py",
   "mimetype": "text/x-python",
   "name": "python",
   "nbconvert_exporter": "python",
   "pygments_lexer": "ipython3",
   "version": "3.9.13"
  }
 },
 "nbformat": 4,
 "nbformat_minor": 5
}
