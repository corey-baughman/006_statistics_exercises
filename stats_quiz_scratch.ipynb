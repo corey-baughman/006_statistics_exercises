{
 "cells": [
  {
   "cell_type": "code",
   "execution_count": 3,
   "id": "3c5a7e52",
   "metadata": {},
   "outputs": [],
   "source": [
    "import numpy as np\n",
    "import seaborn as sns\n",
    "import scipy.stats as stats\n",
    "import pandas as pd\n",
    "import matplotlib.pyplot as plt\n",
    "from pydataset import data\n",
    "import env"
   ]
  },
  {
   "cell_type": "code",
   "execution_count": 4,
   "id": "e1560a30",
   "metadata": {},
   "outputs": [
    {
     "data": {
      "text/plain": [
       "0.15107528710209764"
      ]
     },
     "execution_count": 4,
     "metadata": {},
     "output_type": "execute_result"
    }
   ],
   "source": [
    "# Walgreens question: this is a probability distribution question.\n",
    "# we are looking at a whether people take a survey or not so a discrete\n",
    "# distribution with two outcomes:\n",
    "# binomial\n",
    "n = 618\n",
    "p = .10\n",
    "\n",
    "survey = stats.binom(n, p)\n",
    "\n",
    "survey.sf(69)"
   ]
  },
  {
   "cell_type": "code",
   "execution_count": 6,
   "id": "7b395255",
   "metadata": {},
   "outputs": [
    {
     "data": {
      "text/plain": [
       "0.7475074624530771"
      ]
     },
     "execution_count": 6,
     "metadata": {},
     "output_type": "execute_result"
    }
   ],
   "source": [
    "order_and_eat_time = stats.norm(40, 15)\n",
    "walk_time = 10\n",
    "order_and_eat_time.cdf(50)"
   ]
  }
 ],
 "metadata": {
  "kernelspec": {
   "display_name": "Python 3 (ipykernel)",
   "language": "python",
   "name": "python3"
  },
  "language_info": {
   "codemirror_mode": {
    "name": "ipython",
    "version": 3
   },
   "file_extension": ".py",
   "mimetype": "text/x-python",
   "name": "python",
   "nbconvert_exporter": "python",
   "pygments_lexer": "ipython3",
   "version": "3.9.13"
  }
 },
 "nbformat": 4,
 "nbformat_minor": 5
}
